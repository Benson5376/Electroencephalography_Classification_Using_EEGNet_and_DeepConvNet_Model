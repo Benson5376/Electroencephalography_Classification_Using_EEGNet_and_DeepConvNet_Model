{
 "cells": [
  {
   "cell_type": "code",
   "execution_count": 1,
   "metadata": {},
   "outputs": [],
   "source": [
    "from models import EEGNet, DeepConvNet\n",
    "from dataloader import read_bci_data\n",
    "import torch\n",
    "import torch.nn as nn\n",
    "from torch.utils.data import DataLoader,TensorDataset\n",
    "import torch.optim as optim"
   ]
  },
  {
   "cell_type": "code",
   "execution_count": 2,
   "metadata": {},
   "outputs": [
    {
     "name": "stdout",
     "output_type": "stream",
     "text": [
      "cpu\n"
     ]
    }
   ],
   "source": [
    "device=torch.device('cuda' if torch.cuda.is_available() else 'cpu')\n",
    "print(device)"
   ]
  },
  {
   "cell_type": "code",
   "execution_count": 3,
   "metadata": {},
   "outputs": [],
   "source": [
    "def seed(seed):\n",
    "    torch.manual_seed(seed)\n",
    "    torch.cuda.manual_seed_all(seed)\n",
    "    torch.backends.cudnn.deterministic = True\n",
    "\n",
    "seed(500)"
   ]
  },
  {
   "cell_type": "code",
   "execution_count": 4,
   "metadata": {},
   "outputs": [],
   "source": [
    "## Load data\n",
    "train_data, train_label, test_data, test_label = read_bci_data()\n",
    "\n",
    "#Input Standardization\n",
    "#train_data = (train_data - train_data.mean())/(train_data.std())\n",
    "#test_data = (test_data - test_data.mean())/(test_data.std())\n",
    "\n",
    "\n",
    "train_data = torch.Tensor(train_data)\n",
    "train_label = torch.Tensor(train_label)\n",
    "\n",
    "test_data = torch.Tensor(test_data)\n",
    "test_label = torch.Tensor(test_label)\n",
    "\n",
    "train = TensorDataset(train_data, train_label)\n",
    "train_dataload = DataLoader(train,batch_size=64, shuffle=True)\n",
    "\n",
    "test = TensorDataset(test_data, test_label)\n",
    "test_dataload = DataLoader(test,batch_size=64, shuffle=False)"
   ]
  },
  {
   "cell_type": "code",
   "execution_count": null,
   "metadata": {},
   "outputs": [],
   "source": [
    "best_acc=0\n",
    "\n",
    "for i in [0.004, 0.005, 0.006]: #learning rate \n",
    "    for j in [0.003, 0.004, 0.005]: #weight decay\n",
    "        for k in [250, 300, 350]: # training epoch\n",
    "            \n",
    "            model=EEGNet()\n",
    "            model.to(device)\n",
    "            optimizer = optim.Adam(model.parameters(), lr=i, weight_decay=j)\n",
    "            loss_function = torch.nn.CrossEntropyLoss()\n",
    "\n",
    "            for epoch in range(k):\n",
    "    \n",
    "                train_loss = 0.0\n",
    "                correct = 0\n",
    "    \n",
    "                for iteration, (data, label) in enumerate(train_dataload):\n",
    "                    label = label.type(torch.LongTensor)\n",
    "                    data = data.to(device)\n",
    "                    label = label.to(device)\n",
    "        \n",
    "                    # clear gradient\n",
    "                    optimizer.zero_grad()\n",
    "\n",
    "                    # Forward propagation\n",
    "                    output = model(data)\n",
    "        \n",
    "                    loss = loss_function(output, label)\n",
    "        \n",
    "                    # Calculate gradients\n",
    "                    loss.backward()\n",
    "\n",
    "                    # Update parameters\n",
    "                    optimizer.step()\n",
    "        \n",
    "                    predicted = torch.max(output.data, 1)[1]\n",
    "                    correct += (predicted == label).sum().item()\n",
    "                    train_loss += loss.item()\n",
    "    \n",
    "            print(\"learning rate: {}\".format(i))\n",
    "            print(\"weight decay: {}\".format(j))\n",
    "            print(\"epoch: {}\".format(k))\n",
    "            \n",
    "            model.eval()\n",
    "            with torch.no_grad():\n",
    "    \n",
    "                correct = 0\n",
    "    \n",
    "                for iteration, (data, label) in enumerate(test_dataload):\n",
    "        \n",
    "                    label = label.type(torch.LongTensor)\n",
    "                    data = data.to(device)\n",
    "                    label = label.to(device)\n",
    "        \n",
    "                    output = model(data)\n",
    "        \n",
    "                    predicted = torch.max(output.data, 1)[1]\n",
    "                    correct += (predicted == label).sum().item()\n",
    "    \n",
    "                acc = correct/1080\n",
    "                print(\"EEG Accuracy: \")\n",
    "                print(acc)\n",
    "                print(\"--------------------------------\")\n",
    "                if(acc>best_acc):\n",
    "                    best_acc=acc\n",
    "                if(acc>=0.87):\n",
    "                    torch.save(model, 'EEG_model.pt')\n",
    "                    break\n",
    "print(\"Best accuracy: \")\n",
    "print(best_acc)"
   ]
  },
  {
   "cell_type": "code",
   "execution_count": 10,
   "metadata": {},
   "outputs": [
    {
     "name": "stdout",
     "output_type": "stream",
     "text": [
      "EEG Accuracy: \n",
      "0.8712962962962963\n"
     ]
    }
   ],
   "source": [
    "model = torch.load('EEG_model.pt')\n",
    "model.eval()\n",
    "\n",
    "with torch.no_grad():\n",
    "    \n",
    "                correct = 0\n",
    "    \n",
    "                for iteration, (data, label) in enumerate(test_dataload):\n",
    "        \n",
    "                    label = label.type(torch.LongTensor)\n",
    "                    data = data.to(device)\n",
    "                    label = label.to(device)\n",
    "        \n",
    "                    output = model(data)\n",
    "        \n",
    "                    predicted = torch.max(output.data, 1)[1]\n",
    "                    correct += (predicted == label).sum().item()\n",
    "    \n",
    "                acc = correct/1080\n",
    "                print(\"EEG Accuracy: \")\n",
    "                print(acc)\n"
   ]
  }
 ],
 "metadata": {
  "kernelspec": {
   "display_name": "base",
   "language": "python",
   "name": "python3"
  },
  "language_info": {
   "codemirror_mode": {
    "name": "ipython",
    "version": 3
   },
   "file_extension": ".py",
   "mimetype": "text/x-python",
   "name": "python",
   "nbconvert_exporter": "python",
   "pygments_lexer": "ipython3",
   "version": "3.9.7"
  },
  "orig_nbformat": 4,
  "vscode": {
   "interpreter": {
    "hash": "ad2bdc8ecc057115af97d19610ffacc2b4e99fae6737bb82f5d7fb13d2f2c186"
   }
  }
 },
 "nbformat": 4,
 "nbformat_minor": 2
}
