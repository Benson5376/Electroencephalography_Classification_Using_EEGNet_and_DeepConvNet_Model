{
 "cells": [
  {
   "cell_type": "code",
   "execution_count": 2,
   "metadata": {},
   "outputs": [],
   "source": [
    "from models import EEGNet\n",
    "from dataloader import read_bci_data\n",
    "import torch\n",
    "import torch.nn as nn\n",
    "from torch.utils.data import DataLoader,TensorDataset\n",
    "import torch.optim as optim"
   ]
  },
  {
   "cell_type": "code",
   "execution_count": 3,
   "metadata": {},
   "outputs": [
    {
     "name": "stdout",
     "output_type": "stream",
     "text": [
      "cuda\n"
     ]
    }
   ],
   "source": [
    "device=torch.device('cuda' if torch.cuda.is_available() else 'cpu')\n",
    "print(device)"
   ]
  },
  {
   "cell_type": "code",
   "execution_count": 4,
   "metadata": {},
   "outputs": [],
   "source": [
    "def seed(seed):\n",
    "    torch.manual_seed(seed)\n",
    "    torch.cuda.manual_seed_all(seed)\n",
    "    torch.backends.cudnn.deterministic = True\n",
    "\n",
    "seed(500)"
   ]
  },
  {
   "cell_type": "code",
   "execution_count": 5,
   "metadata": {},
   "outputs": [],
   "source": [
    "train_data, train_label, test_data, test_label = read_bci_data()\n",
    "\n",
    "train_data = torch.Tensor(train_data)\n",
    "train_label = torch.Tensor(train_label)\n",
    "\n",
    "test_data = torch.Tensor(test_data)\n",
    "test_label = torch.Tensor(test_label)\n",
    "\n",
    "train = TensorDataset(train_data, train_label)\n",
    "train_dataload = DataLoader(train,batch_size=64, shuffle=True)\n",
    "\n",
    "test = TensorDataset(test_data, test_label)\n",
    "test_dataload = DataLoader(test,batch_size=64, shuffle=False)"
   ]
  },
  {
   "attachments": {},
   "cell_type": "markdown",
   "metadata": {},
   "source": [
    "## EEGNet Training"
   ]
  },
  {
   "cell_type": "code",
   "execution_count": 5,
   "metadata": {},
   "outputs": [
    {
     "name": "stdout",
     "output_type": "stream",
     "text": [
      "-------100th epoch-------\n",
      "EEGNet Accuracy: \n",
      "0.862037037037037\n",
      "Training Loss: \n",
      "5.739576026797295\n",
      "-------200th epoch-------\n",
      "EEGNet Accuracy: \n",
      "0.8657407407407407\n",
      "Training Loss: \n",
      "4.786291986703873\n",
      "-------300th epoch-------\n",
      "EEGNet Accuracy: \n",
      "0.8712962962962963\n",
      "Training Loss: \n",
      "4.707398787140846\n"
     ]
    }
   ],
   "source": [
    "## EEGNet training\n",
    "\n",
    "model=EEGNet()\n",
    "model.to(device)\n",
    "optimizer = optim.Adam(model.parameters(), lr=0.006, weight_decay=0.003)\n",
    "loss_function = torch.nn.CrossEntropyLoss()\n",
    "\n",
    "for epoch in range(300):\n",
    "    \n",
    "    train_loss = 0.0\n",
    "    correct = 0\n",
    "    \n",
    "    for i, (data, label) in enumerate(train_dataload):\n",
    "        label = label.type(torch.LongTensor)\n",
    "        data = data.to(device)\n",
    "        label = label.to(device)\n",
    "\n",
    "        optimizer.zero_grad()\n",
    "        output = model(data)\n",
    "        loss = loss_function(output, label)\n",
    "        loss.backward()\n",
    "        optimizer.step()\n",
    "        \n",
    "        predicted = torch.max(output.data, 1)[1]\n",
    "        correct += (predicted == label).sum().item()\n",
    "        train_loss += loss.item()\n",
    "    \n",
    "    if((epoch+1)%100==0):\n",
    "        print(\"-------{}th epoch-------\".format(epoch+1))\n",
    "        print(\"EEGNet Accuracy: \")\n",
    "        print(correct/1080)\n",
    "        print(\"Training Loss: \")\n",
    "        print(train_loss)"
   ]
  },
  {
   "attachments": {},
   "cell_type": "markdown",
   "metadata": {},
   "source": [
    "## EEGNet Testing"
   ]
  },
  {
   "cell_type": "code",
   "execution_count": 6,
   "metadata": {},
   "outputs": [
    {
     "name": "stdout",
     "output_type": "stream",
     "text": [
      "EEGNet Accuracy: \n",
      "0.8083333333333333\n"
     ]
    }
   ],
   "source": [
    "## EEGNet Testing\n",
    "model.eval()\n",
    "with torch.no_grad():\n",
    "    \n",
    "    correct = 0\n",
    "    \n",
    "    for i, (data, label) in enumerate(test_dataload):\n",
    "        \n",
    "        label = label.type(torch.LongTensor)\n",
    "        data = data.to(device)\n",
    "        label = label.to(device)\n",
    "        \n",
    "        output = model(data)\n",
    "        \n",
    "        predicted = torch.max(output.data, 1)[1]\n",
    "        correct += (predicted == label).sum().item()\n",
    "    \n",
    "    acc = correct/1080\n",
    "    print(\"EEGNet Accuracy: \")\n",
    "    print(acc)\n"
   ]
  },
  {
   "attachments": {},
   "cell_type": "markdown",
   "metadata": {},
   "source": [
    "## Best EEGNet Model"
   ]
  },
  {
   "cell_type": "code",
   "execution_count": 10,
   "metadata": {},
   "outputs": [
    {
     "name": "stdout",
     "output_type": "stream",
     "text": [
      "EEG Accuracy: \n",
      "0.8712962962962963\n"
     ]
    }
   ],
   "source": [
    "## Best EEGNet Model\n",
    "model = torch.load('EEG_model.pt')\n",
    "model.to(device)\n",
    "model.eval()\n",
    "\n",
    "with torch.no_grad():\n",
    "    \n",
    "                correct = 0\n",
    "    \n",
    "                for iteration, (data, label) in enumerate(test_dataload):\n",
    "        \n",
    "                    label = label.type(torch.LongTensor)\n",
    "                    data = data.to(device)\n",
    "                    label = label.to(device)\n",
    "        \n",
    "                    output = model(data)\n",
    "        \n",
    "                    predicted = torch.max(output.data, 1)[1]\n",
    "                    correct += (predicted == label).sum().item()\n",
    "    \n",
    "                acc = correct/1080\n",
    "                print(\"EEG Accuracy: \")\n",
    "                print(acc)\n"
   ]
  }
 ],
 "metadata": {
  "kernelspec": {
   "display_name": "Python 3",
   "language": "python",
   "name": "python3"
  },
  "language_info": {
   "codemirror_mode": {
    "name": "ipython",
    "version": 3
   },
   "file_extension": ".py",
   "mimetype": "text/x-python",
   "name": "python",
   "nbconvert_exporter": "python",
   "pygments_lexer": "ipython3",
   "version": "3.10.8"
  },
  "orig_nbformat": 4,
  "vscode": {
   "interpreter": {
    "hash": "3de619d82cc44925f10b7ca19799a8eb8aa341ebbfcf5927e49fbb3f80a65afd"
   }
  }
 },
 "nbformat": 4,
 "nbformat_minor": 2
}
