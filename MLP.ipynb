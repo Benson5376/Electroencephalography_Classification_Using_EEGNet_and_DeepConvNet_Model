{
 "cells": [
  {
   "cell_type": "code",
   "execution_count": 1,
   "metadata": {},
   "outputs": [],
   "source": [
    "from models import MLP\n",
    "from dataloader import read_bci_data\n",
    "import torch\n",
    "import torch.nn as nn\n",
    "from torch.utils.data import DataLoader,TensorDataset\n",
    "import torch.optim as optim"
   ]
  },
  {
   "cell_type": "code",
   "execution_count": 2,
   "metadata": {},
   "outputs": [
    {
     "name": "stdout",
     "output_type": "stream",
     "text": [
      "cuda\n"
     ]
    }
   ],
   "source": [
    "device=torch.device('cuda' if torch.cuda.is_available() else 'cpu')\n",
    "print(device)"
   ]
  },
  {
   "cell_type": "code",
   "execution_count": 3,
   "metadata": {},
   "outputs": [],
   "source": [
    "def seed(seed):\n",
    "    torch.manual_seed(seed)\n",
    "    torch.cuda.manual_seed_all(seed)\n",
    "    torch.backends.cudnn.deterministic = True\n",
    "\n",
    "seed(500)"
   ]
  },
  {
   "cell_type": "code",
   "execution_count": 4,
   "metadata": {},
   "outputs": [],
   "source": [
    "train_data, train_label, test_data, test_label = read_bci_data()\n",
    "\n",
    "train_data = torch.Tensor(train_data)\n",
    "train_label = torch.Tensor(train_label)\n",
    "\n",
    "test_data = torch.Tensor(test_data)\n",
    "test_label = torch.Tensor(test_label)\n",
    "\n",
    "train = TensorDataset(train_data, train_label)\n",
    "train_dataload = DataLoader(train,batch_size=64, shuffle=True)\n",
    "\n",
    "test = TensorDataset(test_data, test_label)\n",
    "test_dataload = DataLoader(test,batch_size=64, shuffle=False)"
   ]
  },
  {
   "attachments": {},
   "cell_type": "markdown",
   "metadata": {},
   "source": [
    "## MLP Training"
   ]
  },
  {
   "cell_type": "code",
   "execution_count": 8,
   "metadata": {},
   "outputs": [
    {
     "name": "stdout",
     "output_type": "stream",
     "text": [
      "-------100th epoch-------\n",
      "MLP Accuracy: \n",
      "1.0\n",
      "Training Loss: \n",
      "0.006566579482750967\n",
      "-------200th epoch-------\n",
      "MLP Accuracy: \n",
      "1.0\n",
      "Training Loss: \n",
      "0.0056373173429165035\n",
      "-------300th epoch-------\n",
      "MLP Accuracy: \n",
      "1.0\n",
      "Training Loss: \n",
      "0.004801952658453956\n"
     ]
    }
   ],
   "source": [
    "## MLP Training\n",
    "model=MLP()\n",
    "model.to(device)\n",
    "optimizer = optim.Adam(model.parameters(), lr=0.0001, weight_decay=0.001)\n",
    "loss_function = torch.nn.CrossEntropyLoss()\n",
    "\n",
    "for epoch in range(300):\n",
    "    \n",
    "    train_loss = 0.0\n",
    "    correct = 0\n",
    "    \n",
    "    for i, (data, label) in enumerate(train_dataload):\n",
    "        label = label.type(torch.LongTensor)\n",
    "        data = data.to(device)\n",
    "        label = label.to(device)\n",
    "        \n",
    "        optimizer.zero_grad()\n",
    "        data = data.view(-1, 1500)\n",
    "        output = model(data)\n",
    "        loss = loss_function(output, label)\n",
    "        loss.backward()\n",
    "        optimizer.step()\n",
    "        \n",
    "        predicted = torch.max(output.data, 1)[1]\n",
    "        correct += (predicted == label).sum().item()\n",
    "        train_loss += loss.item()\n",
    "    \n",
    "    if((epoch+1)%100==0):\n",
    "        print(\"-------{}th epoch-------\".format(epoch+1))\n",
    "        print(\"MLP Accuracy: \")\n",
    "        print(correct/1080)\n",
    "        print(\"Training Loss: \")\n",
    "        print(train_loss)\n",
    "        "
   ]
  },
  {
   "attachments": {},
   "cell_type": "markdown",
   "metadata": {},
   "source": [
    "## MLP Testing"
   ]
  },
  {
   "cell_type": "code",
   "execution_count": 9,
   "metadata": {},
   "outputs": [
    {
     "name": "stdout",
     "output_type": "stream",
     "text": [
      "MLP Accuracy: \n",
      "0.6703703703703704\n"
     ]
    }
   ],
   "source": [
    "## MLP Testing\n",
    "model.eval()\n",
    "with torch.no_grad():\n",
    "    \n",
    "    correct = 0\n",
    "    \n",
    "    for i, (data, label) in enumerate(test_dataload):\n",
    "        \n",
    "        label = label.type(torch.LongTensor)\n",
    "        data = data.to(device)\n",
    "        label = label.to(device)\n",
    "        \n",
    "        data = data.view(-1, 1500)\n",
    "        output = model(data)\n",
    "        \n",
    "        predicted = torch.max(output.data, 1)[1]\n",
    "        correct += (predicted == label).sum().item()\n",
    "    \n",
    "    acc = correct/1080\n",
    "    print(\"MLP Accuracy: \")\n",
    "    print(acc)"
   ]
  }
 ],
 "metadata": {
  "kernelspec": {
   "display_name": "Python 3",
   "language": "python",
   "name": "python3"
  },
  "language_info": {
   "codemirror_mode": {
    "name": "ipython",
    "version": 3
   },
   "file_extension": ".py",
   "mimetype": "text/x-python",
   "name": "python",
   "nbconvert_exporter": "python",
   "pygments_lexer": "ipython3",
   "version": "3.10.8"
  },
  "orig_nbformat": 4,
  "vscode": {
   "interpreter": {
    "hash": "3de619d82cc44925f10b7ca19799a8eb8aa341ebbfcf5927e49fbb3f80a65afd"
   }
  }
 },
 "nbformat": 4,
 "nbformat_minor": 2
}
